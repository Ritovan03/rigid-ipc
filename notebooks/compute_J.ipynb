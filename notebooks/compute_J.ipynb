{
 "cells": [
  {
   "cell_type": "markdown",
   "metadata": {},
   "source": [
    "# Compute $\\boldsymbol{J}$ in Kinetic Energy\n",
    "\n",
    "We can define the rotational kinetic energy of a single body as\n",
    "\n",
    "$$\n",
    "\\frac{1}{2} \\boldsymbol{\\omega}^{T} \\boldsymbol{I} \\boldsymbol{\\omega}=\\frac{1}{2} \\operatorname{tr}\\left([\\boldsymbol{\\omega}] \\boldsymbol{J}[\\boldsymbol{\\omega}]^{T}\\right),\n",
    "$$\n",
    "\n",
    "where $\\boldsymbol{J}$ is a diagonal PD matrix that ensures the equality above holds. The following notebook derives the definition of $\\boldsymbol{J}$."
   ]
  },
  {
   "cell_type": "code",
   "execution_count": 1,
   "metadata": {},
   "outputs": [],
   "source": [
    "import numpy\n",
    "import sympy.vector\n",
    "from IPython.display import Latex, Math, display\n",
    "from sympy import *\n",
    "\n",
    "init_printing()"
   ]
  },
  {
   "cell_type": "code",
   "execution_count": 2,
   "metadata": {},
   "outputs": [],
   "source": [
    "def hat(x):\n",
    "    return numpy.array([[0, -x[2], x[1]], [x[2], 0, -x[0]], [-x[1], x[0], 0]],\n",
    "                       dtype=x.dtype)"
   ]
  },
  {
   "cell_type": "code",
   "execution_count": 3,
   "metadata": {},
   "outputs": [],
   "source": [
    "omega = numpy.array(symbols(\"omega_x omega_y omega_z\"))\n",
    "I = numpy.diag(symbols(\"I_x I_y I_z\"))\n",
    "J = numpy.diag(symbols(\"J_0 J_1 J_2\"))"
   ]
  },
  {
   "cell_type": "code",
   "execution_count": 4,
   "metadata": {},
   "outputs": [
    {
     "data": {
      "image/png": "[encoded data removed]",
      "text/latex": [
       "$\\displaystyle I_{x} \\omega_{x}^{2} + I_{y} \\omega_{y}^{2} + I_{z} \\omega_{z}^{2}$"
      ],
      "text/plain": [
       "     2          2          2\n",
       "Iₓ⋅ωₓ  + I_y⋅ω_y  + I_z⋅ω_z "
      ]
     },
     "metadata": {},
     "output_type": "display_data"
    },
    {
     "data": {
      "image/png": "[encoded data removed]",
      "text/latex": [
       "$\\displaystyle \\left[ I_{x}, \\  I_{y}, \\  I_{z}\\right]$"
      ],
      "text/plain": [
       "[Iₓ, I_y, I_z]"
      ]
     },
     "metadata": {},
     "output_type": "display_data"
    }
   ],
   "source": [
    "lhs = omega.T @ I @ omega\n",
    "display(lhs.collect(omega))\n",
    "lhs_coeffs = [lhs.coeff(omega[i], 2) for i in range(omega.size)]\n",
    "display(lhs_coeffs)"
   ]
  },
  {
   "cell_type": "code",
   "execution_count": 5,
   "metadata": {},
   "outputs": [
    {
     "data": {
      "image/png": "[encoded data removed]",
      "text/latex": [
       "$\\displaystyle \\omega_{x}^{2} \\left(J_{1} + J_{2}\\right) + \\omega_{y}^{2} \\left(J_{0} + J_{2}\\right) + \\omega_{z}^{2} \\left(J_{0} + J_{1}\\right)$"
      ],
      "text/plain": [
       "  2                2                2          \n",
       "ωₓ ⋅(J₁ + J₂) + ω_y ⋅(J₀ + J₂) + ω_z ⋅(J₀ + J₁)"
      ]
     },
     "metadata": {},
     "output_type": "display_data"
    },
    {
     "data": {
      "image/png": "[encoded data removed]",
      "text/latex": [
       "$\\displaystyle \\left[ J_{1} + J_{2}, \\  J_{0} + J_{2}, \\  J_{0} + J_{1}\\right]$"
      ],
      "text/plain": [
       "[J₁ + J₂, J₀ + J₂, J₀ + J₁]"
      ]
     },
     "metadata": {},
     "output_type": "display_data"
    }
   ],
   "source": [
    "rhs = numpy.trace(hat(omega) @ J @ hat(omega).T)\n",
    "display(rhs.collect(omega))\n",
    "rhs_coeffs = [rhs.coeff(omega[i], 2) for i in range(omega.size)]\n",
    "display(rhs_coeffs)"
   ]
  },
  {
   "cell_type": "code",
   "execution_count": 6,
   "metadata": {},
   "outputs": [
    {
     "data": {
      "image/png": "[encoded data removed]",
      "text/latex": [
       "$\\displaystyle \\left[ I_{x} = J_{1} + J_{2}, \\  I_{y} = J_{0} + J_{2}, \\  I_{z} = J_{0} + J_{1}\\right]$"
      ],
      "text/plain": [
       "[Iₓ = J₁ + J₂, I_y = J₀ + J₂, I_z = J₀ + J₁]"
      ]
     },
     "metadata": {},
     "output_type": "display_data"
    },
    {
     "data": {
      "text/latex": [
       "$\\boldsymbol{J}=$"
      ],
      "text/plain": [
       "<IPython.core.display.Latex object>"
      ]
     },
     "metadata": {},
     "output_type": "display_data"
    },
    {
     "data": {
      "image/png": "[encoded data removed]",
      "text/latex": [
       "$\\displaystyle \\left[\\begin{matrix}- \\frac{I_{x}}{2} + \\frac{I_{y}}{2} + \\frac{I_{z}}{2} & 0 & 0\\\\0 & \\frac{I_{x}}{2} - \\frac{I_{y}}{2} + \\frac{I_{z}}{2} & 0\\\\0 & 0 & \\frac{I_{x}}{2} + \\frac{I_{y}}{2} - \\frac{I_{z}}{2}\\end{matrix}\\right]$"
      ],
      "text/plain": [
       "⎡  Iₓ   I_y   I_z                                ⎤\n",
       "⎢- ── + ─── + ───        0               0       ⎥\n",
       "⎢  2     2     2                                 ⎥\n",
       "⎢                                                ⎥\n",
       "⎢                  Iₓ   I_y   I_z                ⎥\n",
       "⎢       0          ── - ─── + ───        0       ⎥\n",
       "⎢                  2     2     2                 ⎥\n",
       "⎢                                                ⎥\n",
       "⎢                                  Iₓ   I_y   I_z⎥\n",
       "⎢       0                0         ── + ─── - ───⎥\n",
       "⎣                                  2     2     2 ⎦"
      ]
     },
     "metadata": {},
     "output_type": "display_data"
    }
   ],
   "source": [
    "eqs = [\n",
    "    Eq(lhs_coeff, rhs_coeff)\n",
    "    for lhs_coeff, rhs_coeff in zip(lhs_coeffs, rhs_coeffs)\n",
    "]\n",
    "display(eqs)\n",
    "J_of_I = solve(eqs, numpy.diag(J).tolist())\n",
    "J_solved = numpy.diag([J_of_I[numpy.diag(J)[i]] for i in range(3)])\n",
    "display(Latex(\"$\\\\boldsymbol{J}=$\"), Matrix(J_solved))"
   ]
  },
  {
   "cell_type": "code",
   "execution_count": 7,
   "metadata": {},
   "outputs": [
    {
     "data": {
      "image/png": "[encoded data removed]",
      "text/latex": [
       "$\\displaystyle x^{2} \\left(- \\frac{I_{x}}{2} + \\frac{I_{y}}{2} + \\frac{I_{z}}{2}\\right) + y^{2} \\left(\\frac{I_{x}}{2} - \\frac{I_{y}}{2} + \\frac{I_{z}}{2}\\right) + z^{2} \\left(\\frac{I_{x}}{2} + \\frac{I_{y}}{2} - \\frac{I_{z}}{2}\\right)$"
      ],
      "text/plain": [
       " 2 ⎛  Iₓ   I_y   I_z⎞    2 ⎛Iₓ   I_y   I_z⎞    2 ⎛Iₓ   I_y   I_z⎞\n",
       "x ⋅⎜- ── + ─── + ───⎟ + y ⋅⎜── - ─── + ───⎟ + z ⋅⎜── + ─── - ───⎟\n",
       "   ⎝  2     2     2 ⎠      ⎝2     2     2 ⎠      ⎝2     2     2 ⎠"
      ]
     },
     "execution_count": 7,
     "metadata": {},
     "output_type": "execute_result"
    }
   ],
   "source": [
    "x = numpy.array(symbols(\"x y z\"), dtype=Symbol)\n",
    "(x.T @ J_solved @ x).collect(numpy.diag(I))"
   ]
  }
 ],
 "metadata": {
  "kernelspec": {
   "display_name": "Python 3",
   "language": "python",
   "name": "python3"
  },
  "language_info": {
   "codemirror_mode": {
    "name": "ipython",
    "version": 3
   },
   "file_extension": ".py",
   "mimetype": "text/x-python",
   "name": "python",
   "nbconvert_exporter": "python",
   "pygments_lexer": "ipython3",
   "version": "3.9.5"
  },
  "varInspector": {
   "cols": {
    "lenName": 16,
    "lenType": 16,
    "lenVar": 40
   },
   "kernels_config": {
    "python": {
     "delete_cmd_postfix": "",
     "delete_cmd_prefix": "del ",
     "library": "var_list.py",
     "varRefreshCmd": "print(var_dic_list())"
    },
    "r": {
     "delete_cmd_postfix": ") ",
     "delete_cmd_prefix": "rm(",
     "library": "var_list.r",
     "varRefreshCmd": "cat(var_dic_list()) "
    }
   },
   "types_to_exclude": [
    "module",
    "function",
    "builtin_function_or_method",
    "instance",
    "_Feature"
   ],
   "window_display": false
  }
 },
 "nbformat": 4,
 "nbformat_minor": 4
}
